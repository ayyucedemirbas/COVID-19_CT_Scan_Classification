{
  "nbformat": 4,
  "nbformat_minor": 0,
  "metadata": {
    "colab": {
      "name": "COVID_19_CT_Scan_Classification.ipynb",
      "provenance": [],
      "collapsed_sections": []
    },
    "kernelspec": {
      "display_name": "Python 3",
      "name": "python3"
    },
    "accelerator": "GPU"
  },
  "cells": [
    {
      "cell_type": "code",
      "metadata": {
        "id": "uDl25c7isCOg",
        "outputId": "84fd9946-176a-47b8-b1ef-6c073772f375",
        "colab": {
          "base_uri": "https://localhost:8080/"
        }
      },
      "source": [
        "!pip install -U tensorflow-addons"
      ],
      "execution_count": 1,
      "outputs": [
        {
          "output_type": "stream",
          "name": "stdout",
          "text": [
            "Collecting tensorflow-addons\n",
            "  Downloading tensorflow_addons-0.14.0-cp37-cp37m-manylinux_2_12_x86_64.manylinux2010_x86_64.whl (1.1 MB)\n",
            "\u001b[K     |████████████████████████████████| 1.1 MB 4.3 MB/s \n",
            "\u001b[?25hRequirement already satisfied: typeguard>=2.7 in /usr/local/lib/python3.7/dist-packages (from tensorflow-addons) (2.7.1)\n",
            "Installing collected packages: tensorflow-addons\n",
            "Successfully installed tensorflow-addons-0.14.0\n"
          ]
        }
      ]
    },
    {
      "cell_type": "code",
      "metadata": {
        "colab": {
          "base_uri": "https://localhost:8080/"
        },
        "id": "YNeRd3DlqI5x",
        "outputId": "d0932049-6900-4da1-a2a1-375b31f14406"
      },
      "source": [
        "from google.colab import drive\n",
        "drive.mount('/content/drive')"
      ],
      "execution_count": 2,
      "outputs": [
        {
          "output_type": "stream",
          "name": "stdout",
          "text": [
            "Mounted at /content/drive\n"
          ]
        }
      ]
    },
    {
      "cell_type": "code",
      "metadata": {
        "id": "38K3Ny3yrYkN"
      },
      "source": [
        "import tensorflow as tf\n",
        "from tensorflow import keras\n",
        "from tensorflow.keras import layers\n",
        "from tensorflow.keras.models import Sequential, load_model\n",
        "from tensorflow.keras.layers import Dense, Flatten, Conv2D, MaxPooling2D, Dropout\n",
        "from tensorflow.keras.callbacks import ModelCheckpoint, EarlyStopping\n",
        "from tensorflow.keras.preprocessing.image import ImageDataGenerator\n",
        "from tensorflow.keras.optimizers import Adam\n",
        "from tensorflow.keras.utils import to_categorical\n",
        "from tensorflow.keras import regularizers\n",
        "import matplotlib.pyplot as plt\n",
        "import matplotlib.image as mpimg\n",
        "from keras.preprocessing import image\n",
        "import numpy as np\n",
        "import os\n",
        "import datetime\n",
        "%matplotlib inline"
      ],
      "execution_count": 1,
      "outputs": []
    },
    {
      "cell_type": "code",
      "metadata": {
        "id": "vKsguKKpx-Pj"
      },
      "source": [
        "import tensorflow_addons as tfa"
      ],
      "execution_count": 2,
      "outputs": []
    },
    {
      "cell_type": "code",
      "metadata": {
        "colab": {
          "base_uri": "https://localhost:8080/"
        },
        "id": "TlOaGDVcft_8",
        "outputId": "6a233202-16aa-4f38-9cd0-8db4f22a1161"
      },
      "source": [
        "print(tf.__version__)"
      ],
      "execution_count": null,
      "outputs": [
        {
          "output_type": "stream",
          "name": "stdout",
          "text": [
            "2.6.0\n"
          ]
        }
      ]
    },
    {
      "cell_type": "code",
      "metadata": {
        "colab": {
          "base_uri": "https://localhost:8080/"
        },
        "id": "I_hbMr633xEh",
        "outputId": "36a1ce18-44f9-4e97-bebb-cb94dd14f296"
      },
      "source": [
        "ls -al /content/drive/MyDrive/dataset"
      ],
      "execution_count": null,
      "outputs": [
        {
          "output_type": "stream",
          "name": "stdout",
          "text": [
            "total 8\n",
            "drwx------ 2 root root 4096 Mar 16  2021 \u001b[0m\u001b[01;34mtest\u001b[0m/\n",
            "drwx------ 2 root root 4096 Mar 16  2021 \u001b[01;34mtrain\u001b[0m/\n"
          ]
        }
      ]
    },
    {
      "cell_type": "code",
      "metadata": {
        "id": "DeidIAb3yb2l"
      },
      "source": [
        "imagePaths = \"/content/drive/MyDrive/dataset/train\""
      ],
      "execution_count": 3,
      "outputs": []
    },
    {
      "cell_type": "code",
      "metadata": {
        "id": "H6z5rJTHw_X1"
      },
      "source": [
        "test_path=\"/content/drive/MyDrive/dataset/test\""
      ],
      "execution_count": 4,
      "outputs": []
    },
    {
      "cell_type": "code",
      "metadata": {
        "colab": {
          "base_uri": "https://localhost:8080/"
        },
        "id": "mWNED8C33MQz",
        "outputId": "62a44339-6cf8-4115-d657-fef3c15f7fc9"
      },
      "source": [
        "batch_size=128\n",
        "img_height = 32\n",
        "img_width = 32\n",
        "\n",
        "train_ds = tf.keras.preprocessing.image_dataset_from_directory(\n",
        "  imagePaths,\n",
        "  #color_mode='grayscale',\n",
        "  validation_split=0.2,\n",
        "  subset=\"training\",\n",
        "  seed=123,\n",
        "  image_size=(img_height, img_width),\n",
        "  batch_size=batch_size)"
      ],
      "execution_count": 5,
      "outputs": [
        {
          "output_type": "stream",
          "name": "stdout",
          "text": [
            "Found 1971 files belonging to 2 classes.\n",
            "Using 1577 files for training.\n"
          ]
        }
      ]
    },
    {
      "cell_type": "code",
      "metadata": {
        "colab": {
          "base_uri": "https://localhost:8080/"
        },
        "id": "4AcfjSC9-n5x",
        "outputId": "4080f1d0-10b5-42c7-eb0d-7425efb3d286"
      },
      "source": [
        "val_ds = tf.keras.preprocessing.image_dataset_from_directory(\n",
        "  imagePaths, \n",
        "  #color_mode='grayscale',\n",
        "  validation_split=0.2,\n",
        "  subset=\"validation\",\n",
        "  seed=123,\n",
        "  image_size=(img_height, img_width),\n",
        "  batch_size=batch_size)"
      ],
      "execution_count": 6,
      "outputs": [
        {
          "output_type": "stream",
          "name": "stdout",
          "text": [
            "Found 1971 files belonging to 2 classes.\n",
            "Using 394 files for validation.\n"
          ]
        }
      ]
    },
    {
      "cell_type": "code",
      "metadata": {
        "colab": {
          "base_uri": "https://localhost:8080/"
        },
        "id": "mk66pbV2xEyt",
        "outputId": "65037704-e719-437d-9ae3-c0f9247c2ba1"
      },
      "source": [
        "test_ds = tf.keras.preprocessing.image_dataset_from_directory(\n",
        "  test_path,\n",
        "  seed=123,\n",
        "  image_size=(img_height, img_width),\n",
        "  batch_size=batch_size)"
      ],
      "execution_count": 7,
      "outputs": [
        {
          "output_type": "stream",
          "name": "stdout",
          "text": [
            "Found 510 files belonging to 2 classes.\n"
          ]
        }
      ]
    },
    {
      "cell_type": "code",
      "metadata": {
        "id": "-4vgkxFAOTvX"
      },
      "source": [
        "x_train= tf.concat([x for x, y in train_ds], axis=0)"
      ],
      "execution_count": 8,
      "outputs": []
    },
    {
      "cell_type": "code",
      "metadata": {
        "id": "9pM0rg9MP5NW"
      },
      "source": [
        "y_train= tf.concat([y for x, y in train_ds], axis=0)"
      ],
      "execution_count": 9,
      "outputs": []
    },
    {
      "cell_type": "code",
      "metadata": {
        "id": "1TsEUVjV3kl7"
      },
      "source": [
        "x_test= tf.concat([x for x, y in test_ds], axis=0)\n",
        "y_test= tf.concat([y for x, y in test_ds], axis=0)"
      ],
      "execution_count": 10,
      "outputs": []
    },
    {
      "cell_type": "code",
      "metadata": {
        "id": "FKYGn3-2tnIG"
      },
      "source": [
        "learning_rate = 0.001\n",
        "weight_decay = 0.0001\n",
        "num_epochs = 100\n",
        "image_size = 32  # We'll resize input images to this size\n",
        "patch_size = 6  # Size of the patches to be extract from the input images\n",
        "num_patches = (image_size // patch_size) ** 2\n",
        "projection_dim = 64\n",
        "num_heads = 4\n",
        "transformer_units = [\n",
        "    projection_dim * 2,\n",
        "    projection_dim,\n",
        "]  # Size of the transformer layers\n",
        "transformer_layers = 8\n",
        "mlp_head_units = [2048, 1024]  # Size of the dense layers of the final classifier"
      ],
      "execution_count": 11,
      "outputs": []
    },
    {
      "cell_type": "code",
      "metadata": {
        "colab": {
          "base_uri": "https://localhost:8080/"
        },
        "id": "i3Gd72iD-s0M",
        "outputId": "662bbb03-e67b-4200-e9d8-f3085c62f74a"
      },
      "source": [
        "for image_batch, labels_batch in train_ds:\n",
        "  print(image_batch.shape)\n",
        "  print(labels_batch.shape)\n",
        "  break"
      ],
      "execution_count": 10,
      "outputs": [
        {
          "output_type": "stream",
          "name": "stdout",
          "text": [
            "(128, 32, 32, 3)\n",
            "(128,)\n"
          ]
        }
      ]
    },
    {
      "cell_type": "code",
      "metadata": {
        "id": "DH9CK25kt2tx"
      },
      "source": [
        "data_augmentation = keras.Sequential(\n",
        "    [\n",
        "        layers.Normalization(),\n",
        "        layers.Resizing(image_size, image_size),\n",
        "        layers.RandomFlip(\"horizontal\"),\n",
        "        layers.RandomRotation(factor=0.02),\n",
        "        layers.RandomZoom(\n",
        "            height_factor=0.2, width_factor=0.2\n",
        "        ),\n",
        "    ],\n",
        "    name=\"data_augmentation\",\n",
        ")\n",
        "# Compute the mean and the variance of the training data for normalization.\n",
        "data_augmentation.layers[0].adapt(x_train)"
      ],
      "execution_count": 12,
      "outputs": []
    },
    {
      "cell_type": "code",
      "metadata": {
        "id": "153x-E32t_bd"
      },
      "source": [
        "def mlp(x, hidden_units, dropout_rate):\n",
        "    for units in hidden_units:\n",
        "        x = layers.Dense(units, activation=tf.nn.gelu)(x)\n",
        "        x = layers.Dropout(dropout_rate)(x)\n",
        "    return x"
      ],
      "execution_count": 13,
      "outputs": []
    },
    {
      "cell_type": "code",
      "metadata": {
        "id": "a9Q57VwKuG4V"
      },
      "source": [
        "class Patches(layers.Layer):\n",
        "    def __init__(self, patch_size):\n",
        "        super(Patches, self).__init__()\n",
        "        self.patch_size = patch_size\n",
        "\n",
        "    def call(self, images):\n",
        "        batch_size = tf.shape(images)[0]\n",
        "        patches = tf.image.extract_patches(\n",
        "            images=images,\n",
        "            sizes=[1, self.patch_size, self.patch_size, 1],\n",
        "            strides=[1, self.patch_size, self.patch_size, 1],\n",
        "            rates=[1, 1, 1, 1],\n",
        "            padding=\"VALID\",\n",
        "        )\n",
        "        patch_dims = patches.shape[-1]\n",
        "        patches = tf.reshape(patches, [batch_size, -1, patch_dims])\n",
        "        return patches"
      ],
      "execution_count": 14,
      "outputs": []
    },
    {
      "cell_type": "code",
      "metadata": {
        "id": "2aTM1ht-uL8E",
        "outputId": "d7d10fd8-7c3d-4636-f6c2-90471eb482ec",
        "colab": {
          "base_uri": "https://localhost:8080/",
          "height": 547
        }
      },
      "source": [
        "from tensorflow.python.ops.numpy_ops import np_config\n",
        "np_config.enable_numpy_behavior()\n",
        "plt.figure(figsize=(4, 4))\n",
        "image = x_train[np.random.choice(range(x_train.shape[0]))]\n",
        "plt.imshow(image.astype(\"uint8\"))\n",
        "plt.axis(\"off\")\n",
        "\n",
        "resized_image = tf.image.resize(\n",
        "    tf.convert_to_tensor([image]), size=(image_size, image_size)\n",
        ")\n",
        "patches = Patches(patch_size)(resized_image)\n",
        "print(f\"Image size: {image_size} X {image_size}\")\n",
        "print(f\"Patch size: {patch_size} X {patch_size}\")\n",
        "print(f\"Patches per image: {patches.shape[1]}\")\n",
        "print(f\"Elements per patch: {patches.shape[-1]}\")\n",
        "\n",
        "n = int(np.sqrt(patches.shape[1]))\n",
        "plt.figure(figsize=(4, 4))\n",
        "for i, patch in enumerate(patches[0]):\n",
        "    ax = plt.subplot(n, n, i + 1)\n",
        "    patch_img = tf.reshape(patch, (patch_size, patch_size, 3))\n",
        "    plt.imshow(patch_img.numpy().astype(\"uint8\"))\n",
        "    plt.axis(\"off\")"
      ],
      "execution_count": 15,
      "outputs": [
        {
          "output_type": "stream",
          "name": "stdout",
          "text": [
            "Image size: 32 X 32\n",
            "Patch size: 6 X 6\n",
            "Patches per image: 25\n",
            "Elements per patch: 108\n"
          ]
        },
        {
          "output_type": "display_data",
          "data": {
            "image/png": "[encoded data removed]",
            "text/plain": [
              "<Figure size 288x288 with 1 Axes>"
            ]
          },
          "metadata": {
            "needs_background": "light"
          }
        },
        {
          "output_type": "display_data",
          "data": {
            "image/png": "[encoded data removed]",
            "text/plain": [
              "<Figure size 288x288 with 25 Axes>"
            ]
          },
          "metadata": {
            "needs_background": "light"
          }
        }
      ]
    },
    {
      "cell_type": "code",
      "metadata": {
        "id": "A-iP10Q0uwXI"
      },
      "source": [
        "class PatchEncoder(layers.Layer):\n",
        "    def __init__(self, num_patches, projection_dim):\n",
        "        super(PatchEncoder, self).__init__()\n",
        "        self.num_patches = num_patches\n",
        "        self.projection = layers.Dense(units=projection_dim)\n",
        "        self.position_embedding = layers.Embedding(\n",
        "            input_dim=num_patches, output_dim=projection_dim\n",
        "        )\n",
        "\n",
        "    def call(self, patch):\n",
        "        positions = tf.range(start=0, limit=self.num_patches, delta=1)\n",
        "        encoded = self.projection(patch) + self.position_embedding(positions)\n",
        "        return encoded"
      ],
      "execution_count": 15,
      "outputs": []
    },
    {
      "cell_type": "code",
      "metadata": {
        "id": "RiHc3Jwku_VY"
      },
      "source": [
        "input_shape=(32, 32, 3)"
      ],
      "execution_count": 16,
      "outputs": []
    },
    {
      "cell_type": "code",
      "metadata": {
        "id": "4tRNN0FcvQb5"
      },
      "source": [
        "num_classes = 2"
      ],
      "execution_count": 17,
      "outputs": []
    },
    {
      "cell_type": "code",
      "metadata": {
        "id": "eV80MuBWu2JR"
      },
      "source": [
        "def create_vit_classifier():\n",
        "    inputs = layers.Input(shape=input_shape)\n",
        "    # Augment data.\n",
        "    augmented = data_augmentation(inputs)\n",
        "    # Create patches.\n",
        "    patches = Patches(patch_size)(augmented)\n",
        "    # Encode patches.\n",
        "    encoded_patches = PatchEncoder(num_patches, projection_dim)(patches)\n",
        "\n",
        "    # Create multiple layers of the Transformer block.\n",
        "    for _ in range(transformer_layers):\n",
        "        # Layer normalization 1.\n",
        "        x1 = layers.LayerNormalization(epsilon=1e-6)(encoded_patches)\n",
        "        # Create a multi-head attention layer.\n",
        "        attention_output = layers.MultiHeadAttention(\n",
        "            num_heads=num_heads, key_dim=projection_dim, dropout=0.1\n",
        "        )(x1, x1)\n",
        "        # Skip connection 1.\n",
        "        x2 = layers.Add()([attention_output, encoded_patches])\n",
        "        # Layer normalization 2.\n",
        "        x3 = layers.LayerNormalization(epsilon=1e-6)(x2)\n",
        "        # MLP.\n",
        "        x3 = mlp(x3, hidden_units=transformer_units, dropout_rate=0.1)\n",
        "        # Skip connection 2.\n",
        "        encoded_patches = layers.Add()([x3, x2])\n",
        "\n",
        "    # Create a [batch_size, projection_dim] tensor.\n",
        "    representation = layers.LayerNormalization(epsilon=1e-6)(encoded_patches)\n",
        "    representation = layers.Flatten()(representation)\n",
        "    representation = layers.Dropout(0.5)(representation)\n",
        "    # Add MLP.\n",
        "    features = mlp(representation, hidden_units=mlp_head_units, dropout_rate=0.5)\n",
        "    # Classify outputs.\n",
        "    logits = layers.Dense(num_classes)(features)\n",
        "    # Create the Keras model.\n",
        "    model = keras.Model(inputs=inputs, outputs=logits)\n",
        "    return model"
      ],
      "execution_count": 18,
      "outputs": []
    },
    {
      "cell_type": "code",
      "metadata": {
        "id": "S1OwmcqxvaLp",
        "outputId": "bcc4270e-85d7-42a6-fadb-99377f7c4acf",
        "colab": {
          "base_uri": "https://localhost:8080/"
        }
      },
      "source": [
        "def run_experiment(model):\n",
        "    optimizer = tfa.optimizers.AdamW(\n",
        "        learning_rate=learning_rate, weight_decay=weight_decay\n",
        "    )\n",
        "\n",
        "    model.compile(\n",
        "        optimizer=optimizer,\n",
        "        loss=keras.losses.SparseCategoricalCrossentropy(from_logits=True),\n",
        "        metrics=[\n",
        "            keras.metrics.SparseCategoricalAccuracy(name=\"accuracy\"),\n",
        "            keras.metrics.SparseTopKCategoricalAccuracy(5, name=\"top-5-accuracy\"),\n",
        "        ],\n",
        "    )\n",
        "\n",
        "    checkpoint_filepath = \"/tmp/checkpoint\"\n",
        "    checkpoint_callback = keras.callbacks.ModelCheckpoint(\n",
        "        checkpoint_filepath,\n",
        "        monitor=\"val_accuracy\",\n",
        "        save_best_only=True,\n",
        "        save_weights_only=True,\n",
        "    )\n",
        "\n",
        "    history = model.fit(\n",
        "        x=x_train,\n",
        "        y=y_train,\n",
        "        batch_size=batch_size,\n",
        "        epochs=num_epochs,\n",
        "        validation_split=0.1,\n",
        "        callbacks=[checkpoint_callback],\n",
        "    )\n",
        "\n",
        "    model.load_weights(checkpoint_filepath)\n",
        "    _, accuracy, top_5_accuracy = model.evaluate(x_test, y_test)\n",
        "    print(f\"Test accuracy: {round(accuracy * 100, 2)}%\")\n",
        "    print(f\"Test top 5 accuracy: {round(top_5_accuracy * 100, 2)}%\")\n",
        "\n",
        "    return history\n",
        "\n",
        "\n",
        "vit_classifier = create_vit_classifier()\n",
        "history = run_experiment(vit_classifier)"
      ],
      "execution_count": 19,
      "outputs": [
        {
          "output_type": "stream",
          "name": "stdout",
          "text": [
            "Epoch 1/100\n",
            "12/12 [==============================] - 15s 234ms/step - loss: 2.4965 - accuracy: 0.4771 - top-5-accuracy: 1.0000 - val_loss: 0.9165 - val_accuracy: 0.4620 - val_top-5-accuracy: 1.0000\n",
            "Epoch 2/100\n",
            "12/12 [==============================] - 1s 100ms/step - loss: 0.9074 - accuracy: 0.5081 - top-5-accuracy: 1.0000 - val_loss: 0.7213 - val_accuracy: 0.5506 - val_top-5-accuracy: 1.0000\n",
            "Epoch 3/100\n",
            "12/12 [==============================] - 1s 100ms/step - loss: 0.7885 - accuracy: 0.4919 - top-5-accuracy: 1.0000 - val_loss: 0.7529 - val_accuracy: 0.4684 - val_top-5-accuracy: 1.0000\n",
            "Epoch 4/100\n",
            "12/12 [==============================] - 1s 99ms/step - loss: 0.7757 - accuracy: 0.4870 - top-5-accuracy: 1.0000 - val_loss: 0.6959 - val_accuracy: 0.5000 - val_top-5-accuracy: 1.0000\n",
            "Epoch 5/100\n",
            "12/12 [==============================] - 1s 100ms/step - loss: 0.7512 - accuracy: 0.5011 - top-5-accuracy: 1.0000 - val_loss: 0.7497 - val_accuracy: 0.5253 - val_top-5-accuracy: 1.0000\n",
            "Epoch 6/100\n",
            "12/12 [==============================] - 1s 102ms/step - loss: 0.7542 - accuracy: 0.5032 - top-5-accuracy: 1.0000 - val_loss: 0.6961 - val_accuracy: 0.4873 - val_top-5-accuracy: 1.0000\n",
            "Epoch 7/100\n",
            "12/12 [==============================] - 1s 103ms/step - loss: 0.7402 - accuracy: 0.4898 - top-5-accuracy: 1.0000 - val_loss: 0.6931 - val_accuracy: 0.4810 - val_top-5-accuracy: 1.0000\n",
            "Epoch 8/100\n",
            "12/12 [==============================] - 1s 101ms/step - loss: 0.7237 - accuracy: 0.5074 - top-5-accuracy: 1.0000 - val_loss: 0.6899 - val_accuracy: 0.5190 - val_top-5-accuracy: 1.0000\n",
            "Epoch 9/100\n",
            "12/12 [==============================] - 1s 98ms/step - loss: 0.7359 - accuracy: 0.5081 - top-5-accuracy: 1.0000 - val_loss: 0.6938 - val_accuracy: 0.4873 - val_top-5-accuracy: 1.0000\n",
            "Epoch 10/100\n",
            "12/12 [==============================] - 1s 99ms/step - loss: 0.7347 - accuracy: 0.4968 - top-5-accuracy: 1.0000 - val_loss: 0.6926 - val_accuracy: 0.5380 - val_top-5-accuracy: 1.0000\n",
            "Epoch 11/100\n",
            "12/12 [==============================] - 1s 98ms/step - loss: 0.7173 - accuracy: 0.4841 - top-5-accuracy: 1.0000 - val_loss: 0.7038 - val_accuracy: 0.4684 - val_top-5-accuracy: 1.0000\n",
            "Epoch 12/100\n",
            "12/12 [==============================] - 1s 100ms/step - loss: 0.7367 - accuracy: 0.5004 - top-5-accuracy: 1.0000 - val_loss: 0.6942 - val_accuracy: 0.5190 - val_top-5-accuracy: 1.0000\n",
            "Epoch 13/100\n",
            "12/12 [==============================] - 1s 96ms/step - loss: 0.7219 - accuracy: 0.5152 - top-5-accuracy: 1.0000 - val_loss: 0.7001 - val_accuracy: 0.5127 - val_top-5-accuracy: 1.0000\n",
            "Epoch 14/100\n",
            "12/12 [==============================] - 1s 99ms/step - loss: 0.7077 - accuracy: 0.5180 - top-5-accuracy: 1.0000 - val_loss: 0.7318 - val_accuracy: 0.4747 - val_top-5-accuracy: 1.0000\n",
            "Epoch 15/100\n",
            "12/12 [==============================] - 1s 98ms/step - loss: 0.7181 - accuracy: 0.5032 - top-5-accuracy: 1.0000 - val_loss: 0.6964 - val_accuracy: 0.4620 - val_top-5-accuracy: 1.0000\n",
            "Epoch 16/100\n",
            "12/12 [==============================] - 1s 98ms/step - loss: 0.7033 - accuracy: 0.5137 - top-5-accuracy: 1.0000 - val_loss: 0.6910 - val_accuracy: 0.5316 - val_top-5-accuracy: 1.0000\n",
            "Epoch 17/100\n",
            "12/12 [==============================] - 1s 99ms/step - loss: 0.7018 - accuracy: 0.5088 - top-5-accuracy: 1.0000 - val_loss: 0.6979 - val_accuracy: 0.4367 - val_top-5-accuracy: 1.0000\n",
            "Epoch 18/100\n",
            "12/12 [==============================] - 1s 98ms/step - loss: 0.7142 - accuracy: 0.4947 - top-5-accuracy: 1.0000 - val_loss: 0.6872 - val_accuracy: 0.5759 - val_top-5-accuracy: 1.0000\n",
            "Epoch 19/100\n",
            "12/12 [==============================] - 1s 100ms/step - loss: 0.7037 - accuracy: 0.5074 - top-5-accuracy: 1.0000 - val_loss: 0.6858 - val_accuracy: 0.5506 - val_top-5-accuracy: 1.0000\n",
            "Epoch 20/100\n",
            "12/12 [==============================] - 1s 99ms/step - loss: 0.7132 - accuracy: 0.4870 - top-5-accuracy: 1.0000 - val_loss: 0.6892 - val_accuracy: 0.5127 - val_top-5-accuracy: 1.0000\n",
            "Epoch 21/100\n",
            "12/12 [==============================] - 1s 100ms/step - loss: 0.7167 - accuracy: 0.4982 - top-5-accuracy: 1.0000 - val_loss: 0.6869 - val_accuracy: 0.5759 - val_top-5-accuracy: 1.0000\n",
            "Epoch 22/100\n",
            "12/12 [==============================] - 1s 99ms/step - loss: 0.7194 - accuracy: 0.4954 - top-5-accuracy: 1.0000 - val_loss: 0.6880 - val_accuracy: 0.5190 - val_top-5-accuracy: 1.0000\n",
            "Epoch 23/100\n",
            "12/12 [==============================] - 1s 100ms/step - loss: 0.7082 - accuracy: 0.4856 - top-5-accuracy: 1.0000 - val_loss: 0.6970 - val_accuracy: 0.4557 - val_top-5-accuracy: 1.0000\n",
            "Epoch 24/100\n",
            "12/12 [==============================] - 1s 100ms/step - loss: 0.7075 - accuracy: 0.4806 - top-5-accuracy: 1.0000 - val_loss: 0.6933 - val_accuracy: 0.5443 - val_top-5-accuracy: 1.0000\n",
            "Epoch 25/100\n",
            "12/12 [==============================] - 1s 102ms/step - loss: 0.7008 - accuracy: 0.5004 - top-5-accuracy: 1.0000 - val_loss: 0.6900 - val_accuracy: 0.5506 - val_top-5-accuracy: 1.0000\n",
            "Epoch 26/100\n",
            "12/12 [==============================] - 1s 100ms/step - loss: 0.7014 - accuracy: 0.5130 - top-5-accuracy: 1.0000 - val_loss: 0.6947 - val_accuracy: 0.4873 - val_top-5-accuracy: 1.0000\n",
            "Epoch 27/100\n",
            "12/12 [==============================] - 1s 101ms/step - loss: 0.6990 - accuracy: 0.5088 - top-5-accuracy: 1.0000 - val_loss: 0.6878 - val_accuracy: 0.5506 - val_top-5-accuracy: 1.0000\n",
            "Epoch 28/100\n",
            "12/12 [==============================] - 1s 100ms/step - loss: 0.6982 - accuracy: 0.5208 - top-5-accuracy: 1.0000 - val_loss: 0.6936 - val_accuracy: 0.5127 - val_top-5-accuracy: 1.0000\n",
            "Epoch 29/100\n",
            "12/12 [==============================] - 1s 100ms/step - loss: 0.7075 - accuracy: 0.5053 - top-5-accuracy: 1.0000 - val_loss: 0.6946 - val_accuracy: 0.4810 - val_top-5-accuracy: 1.0000\n",
            "Epoch 30/100\n",
            "12/12 [==============================] - 1s 99ms/step - loss: 0.7080 - accuracy: 0.4933 - top-5-accuracy: 1.0000 - val_loss: 0.6942 - val_accuracy: 0.4557 - val_top-5-accuracy: 1.0000\n",
            "Epoch 31/100\n",
            "12/12 [==============================] - 1s 98ms/step - loss: 0.7041 - accuracy: 0.4933 - top-5-accuracy: 1.0000 - val_loss: 0.6907 - val_accuracy: 0.5633 - val_top-5-accuracy: 1.0000\n",
            "Epoch 32/100\n",
            "12/12 [==============================] - 1s 103ms/step - loss: 0.7102 - accuracy: 0.4799 - top-5-accuracy: 1.0000 - val_loss: 0.6950 - val_accuracy: 0.4937 - val_top-5-accuracy: 1.0000\n",
            "Epoch 33/100\n",
            "12/12 [==============================] - 1s 100ms/step - loss: 0.7060 - accuracy: 0.5130 - top-5-accuracy: 1.0000 - val_loss: 0.6971 - val_accuracy: 0.4684 - val_top-5-accuracy: 1.0000\n",
            "Epoch 34/100\n",
            "12/12 [==============================] - 1s 100ms/step - loss: 0.7000 - accuracy: 0.4905 - top-5-accuracy: 1.0000 - val_loss: 0.6927 - val_accuracy: 0.4937 - val_top-5-accuracy: 1.0000\n",
            "Epoch 35/100\n",
            "12/12 [==============================] - 1s 99ms/step - loss: 0.6947 - accuracy: 0.5307 - top-5-accuracy: 1.0000 - val_loss: 0.7045 - val_accuracy: 0.4684 - val_top-5-accuracy: 1.0000\n",
            "Epoch 36/100\n",
            "12/12 [==============================] - 1s 98ms/step - loss: 0.7058 - accuracy: 0.4982 - top-5-accuracy: 1.0000 - val_loss: 0.6911 - val_accuracy: 0.5633 - val_top-5-accuracy: 1.0000\n",
            "Epoch 37/100\n",
            "12/12 [==============================] - 1s 99ms/step - loss: 0.6984 - accuracy: 0.5060 - top-5-accuracy: 1.0000 - val_loss: 0.6981 - val_accuracy: 0.4557 - val_top-5-accuracy: 1.0000\n",
            "Epoch 38/100\n",
            "12/12 [==============================] - 1s 100ms/step - loss: 0.7009 - accuracy: 0.5081 - top-5-accuracy: 1.0000 - val_loss: 0.6899 - val_accuracy: 0.5316 - val_top-5-accuracy: 1.0000\n",
            "Epoch 39/100\n",
            "12/12 [==============================] - 1s 98ms/step - loss: 0.6996 - accuracy: 0.4856 - top-5-accuracy: 1.0000 - val_loss: 0.6949 - val_accuracy: 0.4430 - val_top-5-accuracy: 1.0000\n",
            "Epoch 40/100\n",
            "12/12 [==============================] - 1s 100ms/step - loss: 0.6970 - accuracy: 0.5067 - top-5-accuracy: 1.0000 - val_loss: 0.6931 - val_accuracy: 0.5316 - val_top-5-accuracy: 1.0000\n",
            "Epoch 41/100\n",
            "12/12 [==============================] - 1s 98ms/step - loss: 0.6953 - accuracy: 0.5032 - top-5-accuracy: 1.0000 - val_loss: 0.6932 - val_accuracy: 0.5570 - val_top-5-accuracy: 1.0000\n",
            "Epoch 42/100\n",
            "12/12 [==============================] - 1s 98ms/step - loss: 0.6947 - accuracy: 0.4884 - top-5-accuracy: 1.0000 - val_loss: 0.6912 - val_accuracy: 0.5253 - val_top-5-accuracy: 1.0000\n",
            "Epoch 43/100\n",
            "12/12 [==============================] - 1s 98ms/step - loss: 0.6971 - accuracy: 0.4757 - top-5-accuracy: 1.0000 - val_loss: 0.6925 - val_accuracy: 0.5443 - val_top-5-accuracy: 1.0000\n",
            "Epoch 44/100\n",
            "12/12 [==============================] - 1s 97ms/step - loss: 0.6935 - accuracy: 0.5102 - top-5-accuracy: 1.0000 - val_loss: 0.6906 - val_accuracy: 0.5570 - val_top-5-accuracy: 1.0000\n",
            "Epoch 45/100\n",
            "12/12 [==============================] - 1s 97ms/step - loss: 0.6972 - accuracy: 0.5215 - top-5-accuracy: 1.0000 - val_loss: 0.6891 - val_accuracy: 0.5443 - val_top-5-accuracy: 1.0000\n",
            "Epoch 46/100\n",
            "12/12 [==============================] - 1s 99ms/step - loss: 0.6972 - accuracy: 0.4982 - top-5-accuracy: 1.0000 - val_loss: 0.6968 - val_accuracy: 0.4557 - val_top-5-accuracy: 1.0000\n",
            "Epoch 47/100\n",
            "12/12 [==============================] - 1s 103ms/step - loss: 0.6956 - accuracy: 0.5243 - top-5-accuracy: 1.0000 - val_loss: 0.6906 - val_accuracy: 0.5506 - val_top-5-accuracy: 1.0000\n",
            "Epoch 48/100\n",
            "12/12 [==============================] - 1s 103ms/step - loss: 0.6941 - accuracy: 0.5130 - top-5-accuracy: 1.0000 - val_loss: 0.6903 - val_accuracy: 0.5190 - val_top-5-accuracy: 1.0000\n",
            "Epoch 49/100\n",
            "12/12 [==============================] - 1s 101ms/step - loss: 0.7002 - accuracy: 0.4877 - top-5-accuracy: 1.0000 - val_loss: 0.6948 - val_accuracy: 0.5316 - val_top-5-accuracy: 1.0000\n",
            "Epoch 50/100\n",
            "12/12 [==============================] - 1s 103ms/step - loss: 0.7030 - accuracy: 0.4848 - top-5-accuracy: 1.0000 - val_loss: 0.6982 - val_accuracy: 0.4494 - val_top-5-accuracy: 1.0000\n",
            "Epoch 51/100\n",
            "12/12 [==============================] - 1s 101ms/step - loss: 0.6980 - accuracy: 0.5137 - top-5-accuracy: 1.0000 - val_loss: 0.6908 - val_accuracy: 0.5316 - val_top-5-accuracy: 1.0000\n",
            "Epoch 52/100\n",
            "12/12 [==============================] - 1s 100ms/step - loss: 0.6923 - accuracy: 0.5102 - top-5-accuracy: 1.0000 - val_loss: 0.6958 - val_accuracy: 0.4620 - val_top-5-accuracy: 1.0000\n",
            "Epoch 53/100\n",
            "12/12 [==============================] - 1s 99ms/step - loss: 0.6972 - accuracy: 0.4848 - top-5-accuracy: 1.0000 - val_loss: 0.6935 - val_accuracy: 0.4810 - val_top-5-accuracy: 1.0000\n",
            "Epoch 54/100\n",
            "12/12 [==============================] - 1s 100ms/step - loss: 0.6927 - accuracy: 0.5053 - top-5-accuracy: 1.0000 - val_loss: 0.6915 - val_accuracy: 0.5063 - val_top-5-accuracy: 1.0000\n",
            "Epoch 55/100\n",
            "12/12 [==============================] - 1s 99ms/step - loss: 0.7110 - accuracy: 0.5025 - top-5-accuracy: 1.0000 - val_loss: 0.6953 - val_accuracy: 0.4620 - val_top-5-accuracy: 1.0000\n",
            "Epoch 56/100\n",
            "12/12 [==============================] - 1s 98ms/step - loss: 0.6999 - accuracy: 0.5053 - top-5-accuracy: 1.0000 - val_loss: 0.6926 - val_accuracy: 0.5190 - val_top-5-accuracy: 1.0000\n",
            "Epoch 57/100\n",
            "12/12 [==============================] - 1s 97ms/step - loss: 0.6956 - accuracy: 0.4799 - top-5-accuracy: 1.0000 - val_loss: 0.6900 - val_accuracy: 0.5000 - val_top-5-accuracy: 1.0000\n",
            "Epoch 58/100\n",
            "12/12 [==============================] - 1s 98ms/step - loss: 0.6992 - accuracy: 0.5137 - top-5-accuracy: 1.0000 - val_loss: 0.6911 - val_accuracy: 0.5190 - val_top-5-accuracy: 1.0000\n",
            "Epoch 59/100\n",
            "12/12 [==============================] - 1s 99ms/step - loss: 0.6936 - accuracy: 0.5095 - top-5-accuracy: 1.0000 - val_loss: 0.6889 - val_accuracy: 0.5506 - val_top-5-accuracy: 1.0000\n",
            "Epoch 60/100\n",
            "12/12 [==============================] - 1s 98ms/step - loss: 0.6962 - accuracy: 0.5018 - top-5-accuracy: 1.0000 - val_loss: 0.6950 - val_accuracy: 0.4873 - val_top-5-accuracy: 1.0000\n",
            "Epoch 61/100\n",
            "12/12 [==============================] - 1s 97ms/step - loss: 0.6942 - accuracy: 0.5095 - top-5-accuracy: 1.0000 - val_loss: 0.6908 - val_accuracy: 0.5127 - val_top-5-accuracy: 1.0000\n",
            "Epoch 62/100\n",
            "12/12 [==============================] - 1s 97ms/step - loss: 0.7041 - accuracy: 0.5032 - top-5-accuracy: 1.0000 - val_loss: 0.6912 - val_accuracy: 0.5316 - val_top-5-accuracy: 1.0000\n",
            "Epoch 63/100\n",
            "12/12 [==============================] - 1s 98ms/step - loss: 0.6937 - accuracy: 0.5018 - top-5-accuracy: 1.0000 - val_loss: 0.6919 - val_accuracy: 0.5316 - val_top-5-accuracy: 1.0000\n",
            "Epoch 64/100\n",
            "12/12 [==============================] - 1s 98ms/step - loss: 0.6950 - accuracy: 0.5123 - top-5-accuracy: 1.0000 - val_loss: 0.6912 - val_accuracy: 0.5570 - val_top-5-accuracy: 1.0000\n",
            "Epoch 65/100\n",
            "12/12 [==============================] - 1s 102ms/step - loss: 0.6933 - accuracy: 0.5152 - top-5-accuracy: 1.0000 - val_loss: 0.6921 - val_accuracy: 0.5253 - val_top-5-accuracy: 1.0000\n",
            "Epoch 66/100\n",
            "12/12 [==============================] - 1s 101ms/step - loss: 0.6952 - accuracy: 0.5144 - top-5-accuracy: 1.0000 - val_loss: 0.6935 - val_accuracy: 0.5633 - val_top-5-accuracy: 1.0000\n",
            "Epoch 67/100\n",
            "12/12 [==============================] - 1s 101ms/step - loss: 0.7032 - accuracy: 0.5046 - top-5-accuracy: 1.0000 - val_loss: 0.6935 - val_accuracy: 0.4873 - val_top-5-accuracy: 1.0000\n",
            "Epoch 68/100\n",
            "12/12 [==============================] - 1s 99ms/step - loss: 0.6955 - accuracy: 0.5095 - top-5-accuracy: 1.0000 - val_loss: 0.6928 - val_accuracy: 0.5443 - val_top-5-accuracy: 1.0000\n",
            "Epoch 69/100\n",
            "12/12 [==============================] - 1s 101ms/step - loss: 0.6960 - accuracy: 0.5116 - top-5-accuracy: 1.0000 - val_loss: 0.6914 - val_accuracy: 0.5063 - val_top-5-accuracy: 1.0000\n",
            "Epoch 70/100\n",
            "12/12 [==============================] - 1s 99ms/step - loss: 0.6937 - accuracy: 0.4982 - top-5-accuracy: 1.0000 - val_loss: 0.6872 - val_accuracy: 0.5570 - val_top-5-accuracy: 1.0000\n",
            "Epoch 71/100\n",
            "12/12 [==============================] - 1s 103ms/step - loss: 0.7038 - accuracy: 0.5088 - top-5-accuracy: 1.0000 - val_loss: 0.6935 - val_accuracy: 0.4747 - val_top-5-accuracy: 1.0000\n",
            "Epoch 72/100\n",
            "12/12 [==============================] - 1s 101ms/step - loss: 0.6955 - accuracy: 0.5095 - top-5-accuracy: 1.0000 - val_loss: 0.6904 - val_accuracy: 0.5253 - val_top-5-accuracy: 1.0000\n",
            "Epoch 73/100\n",
            "12/12 [==============================] - 1s 102ms/step - loss: 0.7003 - accuracy: 0.4947 - top-5-accuracy: 1.0000 - val_loss: 0.6993 - val_accuracy: 0.4620 - val_top-5-accuracy: 1.0000\n",
            "Epoch 74/100\n",
            "12/12 [==============================] - 1s 102ms/step - loss: 0.6951 - accuracy: 0.5074 - top-5-accuracy: 1.0000 - val_loss: 0.6886 - val_accuracy: 0.5759 - val_top-5-accuracy: 1.0000\n",
            "Epoch 75/100\n",
            "12/12 [==============================] - 1s 100ms/step - loss: 0.6998 - accuracy: 0.5123 - top-5-accuracy: 1.0000 - val_loss: 0.6897 - val_accuracy: 0.5443 - val_top-5-accuracy: 1.0000\n",
            "Epoch 76/100\n",
            "12/12 [==============================] - 1s 101ms/step - loss: 0.7005 - accuracy: 0.4926 - top-5-accuracy: 1.0000 - val_loss: 0.6894 - val_accuracy: 0.5253 - val_top-5-accuracy: 1.0000\n",
            "Epoch 77/100\n",
            "12/12 [==============================] - 1s 99ms/step - loss: 0.6981 - accuracy: 0.5018 - top-5-accuracy: 1.0000 - val_loss: 0.6892 - val_accuracy: 0.5127 - val_top-5-accuracy: 1.0000\n",
            "Epoch 78/100\n",
            "12/12 [==============================] - 1s 98ms/step - loss: 0.6983 - accuracy: 0.5018 - top-5-accuracy: 1.0000 - val_loss: 0.6989 - val_accuracy: 0.4684 - val_top-5-accuracy: 1.0000\n",
            "Epoch 79/100\n",
            "12/12 [==============================] - 1s 99ms/step - loss: 0.6982 - accuracy: 0.4778 - top-5-accuracy: 1.0000 - val_loss: 0.6918 - val_accuracy: 0.5380 - val_top-5-accuracy: 1.0000\n",
            "Epoch 80/100\n",
            "12/12 [==============================] - 1s 100ms/step - loss: 0.6983 - accuracy: 0.5046 - top-5-accuracy: 1.0000 - val_loss: 0.6931 - val_accuracy: 0.5127 - val_top-5-accuracy: 1.0000\n",
            "Epoch 81/100\n",
            "12/12 [==============================] - 1s 98ms/step - loss: 0.6986 - accuracy: 0.4792 - top-5-accuracy: 1.0000 - val_loss: 0.6920 - val_accuracy: 0.5633 - val_top-5-accuracy: 1.0000\n",
            "Epoch 82/100\n",
            "12/12 [==============================] - 1s 100ms/step - loss: 0.6947 - accuracy: 0.5067 - top-5-accuracy: 1.0000 - val_loss: 0.6931 - val_accuracy: 0.4873 - val_top-5-accuracy: 1.0000\n",
            "Epoch 83/100\n",
            "12/12 [==============================] - 1s 100ms/step - loss: 0.6928 - accuracy: 0.4996 - top-5-accuracy: 1.0000 - val_loss: 0.6915 - val_accuracy: 0.5316 - val_top-5-accuracy: 1.0000\n",
            "Epoch 84/100\n",
            "12/12 [==============================] - 1s 101ms/step - loss: 0.6985 - accuracy: 0.4961 - top-5-accuracy: 1.0000 - val_loss: 0.6929 - val_accuracy: 0.5253 - val_top-5-accuracy: 1.0000\n",
            "Epoch 85/100\n",
            "12/12 [==============================] - 1s 98ms/step - loss: 0.6933 - accuracy: 0.5095 - top-5-accuracy: 1.0000 - val_loss: 0.6933 - val_accuracy: 0.4684 - val_top-5-accuracy: 1.0000\n",
            "Epoch 86/100\n",
            "12/12 [==============================] - 1s 102ms/step - loss: 0.6953 - accuracy: 0.5053 - top-5-accuracy: 1.0000 - val_loss: 0.6927 - val_accuracy: 0.5633 - val_top-5-accuracy: 1.0000\n",
            "Epoch 87/100\n",
            "12/12 [==============================] - 1s 99ms/step - loss: 0.6964 - accuracy: 0.5011 - top-5-accuracy: 1.0000 - val_loss: 0.7109 - val_accuracy: 0.4620 - val_top-5-accuracy: 1.0000\n",
            "Epoch 88/100\n",
            "12/12 [==============================] - 1s 99ms/step - loss: 0.6942 - accuracy: 0.5335 - top-5-accuracy: 1.0000 - val_loss: 0.6969 - val_accuracy: 0.4494 - val_top-5-accuracy: 1.0000\n",
            "Epoch 89/100\n",
            "12/12 [==============================] - 1s 101ms/step - loss: 0.6978 - accuracy: 0.5060 - top-5-accuracy: 1.0000 - val_loss: 0.6962 - val_accuracy: 0.5000 - val_top-5-accuracy: 1.0000\n",
            "Epoch 90/100\n",
            "12/12 [==============================] - 1s 99ms/step - loss: 0.7030 - accuracy: 0.4771 - top-5-accuracy: 1.0000 - val_loss: 0.6917 - val_accuracy: 0.5443 - val_top-5-accuracy: 1.0000\n",
            "Epoch 91/100\n",
            "12/12 [==============================] - 1s 100ms/step - loss: 0.6964 - accuracy: 0.5025 - top-5-accuracy: 1.0000 - val_loss: 0.6925 - val_accuracy: 0.5190 - val_top-5-accuracy: 1.0000\n",
            "Epoch 92/100\n",
            "12/12 [==============================] - 1s 97ms/step - loss: 0.6938 - accuracy: 0.4968 - top-5-accuracy: 1.0000 - val_loss: 0.7050 - val_accuracy: 0.4684 - val_top-5-accuracy: 1.0000\n",
            "Epoch 93/100\n",
            "12/12 [==============================] - 1s 102ms/step - loss: 0.7005 - accuracy: 0.4982 - top-5-accuracy: 1.0000 - val_loss: 0.6916 - val_accuracy: 0.5506 - val_top-5-accuracy: 1.0000\n",
            "Epoch 94/100\n",
            "12/12 [==============================] - 1s 100ms/step - loss: 0.6945 - accuracy: 0.5032 - top-5-accuracy: 1.0000 - val_loss: 0.6906 - val_accuracy: 0.5190 - val_top-5-accuracy: 1.0000\n",
            "Epoch 95/100\n",
            "12/12 [==============================] - 1s 99ms/step - loss: 0.6964 - accuracy: 0.5046 - top-5-accuracy: 1.0000 - val_loss: 0.6956 - val_accuracy: 0.4747 - val_top-5-accuracy: 1.0000\n",
            "Epoch 96/100\n",
            "12/12 [==============================] - 1s 98ms/step - loss: 0.6949 - accuracy: 0.5095 - top-5-accuracy: 1.0000 - val_loss: 0.6947 - val_accuracy: 0.4620 - val_top-5-accuracy: 1.0000\n",
            "Epoch 97/100\n",
            "12/12 [==============================] - 1s 99ms/step - loss: 0.6937 - accuracy: 0.5208 - top-5-accuracy: 1.0000 - val_loss: 0.6927 - val_accuracy: 0.5443 - val_top-5-accuracy: 1.0000\n",
            "Epoch 98/100\n",
            "12/12 [==============================] - 1s 102ms/step - loss: 0.6936 - accuracy: 0.4996 - top-5-accuracy: 1.0000 - val_loss: 0.6949 - val_accuracy: 0.5127 - val_top-5-accuracy: 1.0000\n",
            "Epoch 99/100\n",
            "12/12 [==============================] - 1s 100ms/step - loss: 0.6966 - accuracy: 0.5109 - top-5-accuracy: 1.0000 - val_loss: 0.6927 - val_accuracy: 0.4810 - val_top-5-accuracy: 1.0000\n",
            "Epoch 100/100\n",
            "12/12 [==============================] - 1s 99ms/step - loss: 0.6937 - accuracy: 0.5201 - top-5-accuracy: 1.0000 - val_loss: 0.6960 - val_accuracy: 0.4051 - val_top-5-accuracy: 1.0000\n",
            "16/16 [==============================] - 0s 23ms/step - loss: 0.6919 - accuracy: 0.5275 - top-5-accuracy: 1.0000\n",
            "Test accuracy: 52.75%\n",
            "Test top 5 accuracy: 100.0%\n"
          ]
        }
      ]
    },
    {
      "cell_type": "code",
      "metadata": {
        "colab": {
          "base_uri": "https://localhost:8080/",
          "height": 295
        },
        "id": "ZaXN4CsQP8vO",
        "outputId": "998736b0-355e-4e9d-bf48-5e8c7b7f489d"
      },
      "source": [
        "plt.plot(history.history['loss'])\n",
        "plt.plot(history.history['val_loss'])\n",
        "plt.title('Loss vs. epochs')\n",
        "plt.ylabel('Loss')\n",
        "plt.xlabel('Epoch')\n",
        "plt.legend(['Training', 'Validation'], loc='upper right')\n",
        "plt.show()"
      ],
      "execution_count": 20,
      "outputs": [
        {
          "output_type": "display_data",
          "data": {
            "image/png": "[encoded data removed]",
            "text/plain": [
              "<Figure size 432x288 with 1 Axes>"
            ]
          },
          "metadata": {
            "needs_background": "light"
          }
        }
      ]
    },
    {
      "cell_type": "code",
      "metadata": {
        "colab": {
          "base_uri": "https://localhost:8080/",
          "height": 295
        },
        "id": "PLli0dj9Sas2",
        "outputId": "85340d71-3e3f-4008-8278-b7139de091af"
      },
      "source": [
        "plt.plot(history.history['accuracy'])\n",
        "plt.plot(history.history['val_accuracy'])\n",
        "plt.title('Accuracy vs. epochs')\n",
        "plt.ylabel('Accuracy')\n",
        "plt.xlabel('Epoch')\n",
        "plt.legend(['Training', 'Validation'], loc='upper right')\n",
        "plt.show()"
      ],
      "execution_count": 21,
      "outputs": [
        {
          "output_type": "display_data",
          "data": {
            "image/png": "[encoded data removed]",
            "text/plain": [
              "<Figure size 432x288 with 1 Axes>"
            ]
          },
          "metadata": {
            "needs_background": "light"
          }
        }
      ]
    },
    {
      "cell_type": "code",
      "metadata": {
        "colab": {
          "base_uri": "https://localhost:8080/"
        },
        "id": "ibPhga8wEQ6l",
        "outputId": "3b63f078-a62b-430b-9e3e-5854aba2816f"
      },
      "source": [
        "results = vit_classifier.evaluate(test_ds, verbose=2)"
      ],
      "execution_count": 23,
      "outputs": [
        {
          "output_type": "stream",
          "name": "stdout",
          "text": [
            "4/4 - 2s - loss: 0.6855 - accuracy: 0.5157 - top-5-accuracy: 1.0000\n"
          ]
        }
      ]
    },
    {
      "cell_type": "code",
      "metadata": {
        "colab": {
          "base_uri": "https://localhost:8080/"
        },
        "id": "JdeT4Res6nSo",
        "outputId": "f0e88f66-1438-46ce-f8d8-aa242390e560"
      },
      "source": [
        "results"
      ],
      "execution_count": 24,
      "outputs": [
        {
          "output_type": "execute_result",
          "data": {
            "text/plain": [
              "[0.6854910850524902, 0.5156862735748291, 1.0]"
            ]
          },
          "metadata": {},
          "execution_count": 24
        }
      ]
    },
    {
      "cell_type": "code",
      "metadata": {
        "id": "botftpNINVeq"
      },
      "source": [
        "y_pred=vit_classifier.predict(test_ds)"
      ],
      "execution_count": 25,
      "outputs": []
    },
    {
      "cell_type": "code",
      "metadata": {
        "id": "pwy3_wHdNegv"
      },
      "source": [
        "predicted_categories = tf.argmax(y_pred, axis=1)"
      ],
      "execution_count": 26,
      "outputs": []
    },
    {
      "cell_type": "code",
      "metadata": {
        "id": "ZwuZI_C4NoPi"
      },
      "source": [
        "true_categories = tf.concat([y for x, y in test_ds], axis=0)"
      ],
      "execution_count": 27,
      "outputs": []
    },
    {
      "cell_type": "code",
      "metadata": {
        "id": "scjItL8mOlW_"
      },
      "source": [
        "y_pred_keras = vit_classifier.predict(x_test)"
      ],
      "execution_count": 28,
      "outputs": []
    },
    {
      "cell_type": "code",
      "metadata": {
        "id": "S0H1urBAQhP4"
      },
      "source": [
        "y_pred=np.array([])\n",
        "for i in y_pred_keras:\n",
        "  if i[0] > i[1]:\n",
        "    y_pred=np.append(y_pred, i[0])\n",
        "  else:\n",
        "    y_pred=np.append(y_pred, i[1])"
      ],
      "execution_count": 29,
      "outputs": []
    },
    {
      "cell_type": "code",
      "metadata": {
        "id": "_4eCPQ6hOvfM"
      },
      "source": [
        "from sklearn.metrics import roc_curve"
      ],
      "execution_count": 30,
      "outputs": []
    },
    {
      "cell_type": "code",
      "metadata": {
        "id": "B5KoByNGOBf4"
      },
      "source": [
        "fpr_keras, tpr_keras, thresholds_keras = roc_curve(y_test, y_pred)"
      ],
      "execution_count": 31,
      "outputs": []
    },
    {
      "cell_type": "code",
      "metadata": {
        "id": "YrDciIhQOp1Q"
      },
      "source": [
        "from sklearn.metrics import auc\n",
        "auc_keras = auc(fpr_keras, tpr_keras)"
      ],
      "execution_count": 32,
      "outputs": []
    },
    {
      "cell_type": "code",
      "metadata": {
        "id": "wDtIZUHhUnSU",
        "colab": {
          "base_uri": "https://localhost:8080/"
        },
        "outputId": "b99e310e-e285-475a-fae8-eb257614890e"
      },
      "source": [
        "auc_keras"
      ],
      "execution_count": 33,
      "outputs": [
        {
          "output_type": "execute_result",
          "data": {
            "text/plain": [
              "0.4696039984621299"
            ]
          },
          "metadata": {},
          "execution_count": 33
        }
      ]
    },
    {
      "cell_type": "code",
      "metadata": {
        "id": "bJe0MhhKURVm",
        "colab": {
          "base_uri": "https://localhost:8080/",
          "height": 295
        },
        "outputId": "c61f3608-dd50-483c-e27b-438124ef0622"
      },
      "source": [
        "plt.figure(1)\n",
        "plt.plot([0, 1], [0, 1], 'k--')\n",
        "plt.plot(fpr_keras, tpr_keras, label='Keras (area = {:.3f})'.format(auc_keras))\n",
        "plt.xlabel('False positive rate')\n",
        "plt.ylabel('True positive rate')\n",
        "plt.title('ROC curve')\n",
        "plt.legend(loc='best')\n",
        "plt.show()"
      ],
      "execution_count": 34,
      "outputs": [
        {
          "output_type": "display_data",
          "data": {
            "image/png": "[encoded data removed]",
            "text/plain": [
              "<Figure size 432x288 with 1 Axes>"
            ]
          },
          "metadata": {
            "needs_background": "light"
          }
        }
      ]
    },
    {
      "cell_type": "code",
      "metadata": {
        "id": "zyqXPQhrm1HL"
      },
      "source": [
        "confusion_matrix= tf.math.confusion_matrix(predicted_categories, true_categories)"
      ],
      "execution_count": 35,
      "outputs": []
    },
    {
      "cell_type": "code",
      "metadata": {
        "id": "yzVRKU-GrZ94"
      },
      "source": [
        "confusion_matrix=confusion_matrix.numpy()"
      ],
      "execution_count": 36,
      "outputs": []
    },
    {
      "cell_type": "code",
      "metadata": {
        "colab": {
          "base_uri": "https://localhost:8080/"
        },
        "id": "8zJBatsEsCBS",
        "outputId": "21308902-e485-4573-9edc-014881f2840a"
      },
      "source": [
        "confusion_matrix"
      ],
      "execution_count": 37,
      "outputs": [
        {
          "output_type": "execute_result",
          "data": {
            "text/plain": [
              "array([[216, 214],\n",
              "       [ 39,  41]], dtype=int32)"
            ]
          },
          "metadata": {},
          "execution_count": 37
        }
      ]
    },
    {
      "cell_type": "code",
      "metadata": {
        "id": "IaOZ-rukrD9R"
      },
      "source": [
        "true_positive=confusion_matrix[0][0]\n",
        "false_positive=confusion_matrix[0][1]\n",
        "false_negative=confusion_matrix[1][0]\n",
        "true_negative=confusion_matrix[1][1]"
      ],
      "execution_count": 38,
      "outputs": []
    },
    {
      "cell_type": "code",
      "metadata": {
        "id": "WFK6SOUirhJj"
      },
      "source": [
        "accuracy=(true_positive+ true_negative)/(true_positive+false_positive+false_negative+true_negative)"
      ],
      "execution_count": 39,
      "outputs": []
    },
    {
      "cell_type": "code",
      "metadata": {
        "colab": {
          "base_uri": "https://localhost:8080/"
        },
        "id": "EQmPuI5QtasA",
        "outputId": "f01d0bda-d090-4652-c14a-94c7e827dbff"
      },
      "source": [
        "accuracy"
      ],
      "execution_count": 40,
      "outputs": [
        {
          "output_type": "execute_result",
          "data": {
            "text/plain": [
              "0.503921568627451"
            ]
          },
          "metadata": {},
          "execution_count": 40
        }
      ]
    },
    {
      "cell_type": "code",
      "metadata": {
        "id": "tlzMG2-3tdQp"
      },
      "source": [
        "precision=true_positive/(true_positive+false_positive)"
      ],
      "execution_count": 41,
      "outputs": []
    },
    {
      "cell_type": "code",
      "metadata": {
        "colab": {
          "base_uri": "https://localhost:8080/"
        },
        "id": "T_kdXmyatmVX",
        "outputId": "b1050884-161b-4fbb-a34c-0adb539ed618"
      },
      "source": [
        "precision"
      ],
      "execution_count": 42,
      "outputs": [
        {
          "output_type": "execute_result",
          "data": {
            "text/plain": [
              "0.5023255813953489"
            ]
          },
          "metadata": {},
          "execution_count": 42
        }
      ]
    },
    {
      "cell_type": "code",
      "metadata": {
        "id": "m65ywjwMtoV9"
      },
      "source": [
        "recall=true_positive/(true_positive+false_negative)"
      ],
      "execution_count": 43,
      "outputs": []
    },
    {
      "cell_type": "code",
      "metadata": {
        "id": "86j5L2Mj6Tln",
        "outputId": "6e9cd022-8208-40dc-e2b0-9c2aeb40f9f6",
        "colab": {
          "base_uri": "https://localhost:8080/"
        }
      },
      "source": [
        "recall"
      ],
      "execution_count": 44,
      "outputs": [
        {
          "output_type": "execute_result",
          "data": {
            "text/plain": [
              "0.8470588235294118"
            ]
          },
          "metadata": {},
          "execution_count": 44
        }
      ]
    },
    {
      "cell_type": "code",
      "metadata": {
        "id": "vx6G9fBTtvO8"
      },
      "source": [
        "f1=2*((precision*recall)/(precision+recall))"
      ],
      "execution_count": 45,
      "outputs": []
    },
    {
      "cell_type": "code",
      "metadata": {
        "colab": {
          "base_uri": "https://localhost:8080/"
        },
        "id": "_zapUlbRuMZG",
        "outputId": "1bc41d4e-7080-4cb5-9b0b-ac268c957ad5"
      },
      "source": [
        "f1"
      ],
      "execution_count": 46,
      "outputs": [
        {
          "output_type": "execute_result",
          "data": {
            "text/plain": [
              "0.6306569343065694"
            ]
          },
          "metadata": {},
          "execution_count": 46
        }
      ]
    }
  ]
}